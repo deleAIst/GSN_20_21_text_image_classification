{
 "cells": [
  {
   "cell_type": "code",
   "execution_count": 3,
   "metadata": {},
   "outputs": [],
   "source": [
    "import os\n",
    "import pandas as pd\n",
    "import numpy as np\n",
    "import joblib\n",
    "from imutils import paths\n",
    "from sklearn.preprocessing import LabelBinarizer\n",
    "from tqdm import tqdm\n",
    "import albumentations\n",
    "import cv2"
   ]
  },
  {
   "cell_type": "code",
   "execution_count": 2,
   "metadata": {},
   "outputs": [],
   "source": [
    "#https://debuggercafe.com/creating-efficient-image-data-loaders-in-pytorch-for-deep-learning/"
   ]
  },
  {
   "cell_type": "code",
   "execution_count": 4,
   "metadata": {},
   "outputs": [
    {
     "output_type": "stream",
     "name": "stderr",
     "text": [
      "100%|██████████| 65/65 [00:00<00:00, 2332.38it/s]The first one hot encoded labels: nach\n",
      "Total instances: 65\n",
      "                                          image_path  target\n",
      "0  ../imageTraining/nach/Augsburg_Bayerische_Staa...     0.0\n",
      "1  ../imageTraining/vor/Deutschland_UniHeidelberg...     1.0\n",
      "2  ../imageTraining/nach/Heidelberg_UB_cpg32_2r_E...     0.0\n",
      "3  ../imageTraining/vor/Gent_UniversiteitGent_BHS...     1.0\n",
      "4  ../imageTraining/vor/StGallen_Stiftsbibliothek...     1.0\n",
      "\n"
     ]
    }
   ],
   "source": [
    "# get all the image paths\n",
    "image_paths = list(paths.list_images('../imageTraining'))\n",
    "# create an empty DataFrame\n",
    "data = pd.DataFrame()\n",
    "labels = []\n",
    "\n",
    "\n",
    "for i, image_path in tqdm(enumerate(image_paths), total=len(image_paths)):\n",
    "    label = image_path.split(os.path.sep)[-2]\n",
    "    data.loc[i, 'image_path'] = image_path\n",
    "    labels.append(label)\n",
    "    \n",
    "print(f\"The first one hot encoded labels: {labels[0]}\")\n",
    "print(f\"Total instances: {len(labels)}\")\n",
    "for i in range(len(labels)):\n",
    "    if(labels[i]== \"vor\"):\n",
    "        index=1\n",
    "    else:\n",
    "        index=0\n",
    "    data.loc[i, 'target'] = int(index)\n",
    "# shuffle the dataset\n",
    "data = data.sample(frac=1).reset_index(drop=True)\n",
    "# save as csv file\n",
    "data.to_csv('../input/data.csv', index=False)\n",
    "print(data.head())"
   ]
  },
  {
   "cell_type": "code",
   "execution_count": null,
   "metadata": {},
   "outputs": [],
   "source": []
  },
  {
   "cell_type": "code",
   "execution_count": null,
   "metadata": {},
   "outputs": [],
   "source": []
  }
 ],
 "metadata": {
  "kernelspec": {
   "display_name": "Python 3.8.5 64-bit ('base': conda)",
   "language": "python",
   "name": "python38564bitbasecondaefb6b0d831c242f7977f75f8050b5503"
  },
  "language_info": {
   "codemirror_mode": {
    "name": "ipython",
    "version": 3
   },
   "file_extension": ".py",
   "mimetype": "text/x-python",
   "name": "python",
   "nbconvert_exporter": "python",
   "pygments_lexer": "ipython3",
   "version": "3.8.5-final"
  }
 },
 "nbformat": 4,
 "nbformat_minor": 4
}