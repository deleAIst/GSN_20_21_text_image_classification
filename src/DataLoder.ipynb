{
 "cells": [
  {
   "cell_type": "code",
   "execution_count": 1,
   "metadata": {},
   "outputs": [],
   "source": [
    "import torch\n",
    "import torchvision\n",
    "import torch.nn as nn\n",
    "import torch.optim as optim\n",
    "import matplotlib.pyplot as plt\n",
    "import albumentations\n",
    "import cv2\n",
    "import matplotlib.pyplot as plt\n",
    "import os\n",
    "import pandas as pd\n",
    "import numpy as np\n",
    "import joblib\n",
    "\n",
    "from torch.utils.data import DataLoader, Dataset\n",
    "from imutils import paths\n",
    "from sklearn.preprocessing import LabelBinarizer\n",
    "from tqdm import tqdm\n",
    "from torchvision import transforms, datasets\n",
    "from PIL import Image\n",
    "from sklearn.model_selection import train_test_split\n",
    "from sklearn import svm, datasets\n",
    "from sklearn.metrics import confusion_matrix\n",
    "from sklearn.metrics import plot_confusion_matrix\n",
    "from torch.utils.tensorboard import SummaryWriter"
   ]
  },
  {
   "cell_type": "markdown",
   "metadata": {},
   "source": [
    "### Data Loder"
   ]
  },
  {
   "cell_type": "code",
   "execution_count": 2,
   "metadata": {},
   "outputs": [],
   "source": [
    "#https://debuggercafe.com/creating-efficient-image-data-loaders-in-pytorch-for-deep-learning/"
   ]
  },
  {
   "cell_type": "code",
   "execution_count": 3,
   "metadata": {},
   "outputs": [],
   "source": [
    "transfrom=transforms.Compose([transforms.Resize(224),\n",
    "                        transforms.CenterCrop(224),\n",
    "                             transforms.ToTensor()])"
   ]
  },
  {
   "cell_type": "code",
   "execution_count": 4,
   "metadata": {},
   "outputs": [],
   "source": [
    "class ImageDataset(Dataset):\n",
    "    \n",
    "    def __init__(self, path, labels, tfms=None):\n",
    "        # data loading\n",
    "        self.X = path\n",
    "        self.y = labels\n",
    "        \n",
    "    def __getitem__(self, index):\n",
    "        # dataset[0]\n",
    "        image = Image.open(self.X[index]).convert('RGB')\n",
    "        image = transfrom(image)\n",
    "        #image = np.transpose(image, (2, 0, 1))\n",
    "        type(image)\n",
    "        label = self.y[index]\n",
    "        return image, torch.tensor(label, dtype=torch.long)\n",
    "        \n",
    "    def __len__(self):\n",
    "        # len(dataset)\n",
    "        return(len(self.X))\n",
    "    "
   ]
  },
  {
   "cell_type": "markdown",
   "metadata": {},
   "source": [
    "### Model(DensNet)"
   ]
  },
  {
   "cell_type": "code",
   "execution_count": 5,
   "metadata": {},
   "outputs": [],
   "source": [
    "def conv_block(input_channels, num_channels):\n",
    "    return nn.Sequential(\n",
    "        nn.BatchNorm2d(input_channels), nn.ReLU(),\n",
    "        nn.Conv2d(input_channels, num_channels, kernel_size=3, padding=1))"
   ]
  },
  {
   "cell_type": "code",
   "execution_count": 6,
   "metadata": {},
   "outputs": [],
   "source": [
    "class DenseBlock(nn.Module):\n",
    "    def __init__(self, num_convs, input_channels, num_channels):\n",
    "        super(DenseBlock, self).__init__()\n",
    "        layer = []\n",
    "        for i in range(num_convs):\n",
    "            layer.append(conv_block(\n",
    "                num_channels * i + input_channels, num_channels))\n",
    "        self.net = nn.Sequential(*layer)\n",
    "\n",
    "    def forward(self, X):\n",
    "        for blk in self.net:\n",
    "            Y = blk(X)\n",
    "            # Concatenate the input and output of each block on the channel\n",
    "            # dimension\n",
    "            X = torch.cat((X, Y), dim=1)\n",
    "        return X"
   ]
  },
  {
   "cell_type": "code",
   "execution_count": 7,
   "metadata": {},
   "outputs": [],
   "source": [
    "def transition_block(input_channels, num_channels):\n",
    "    return nn.Sequential(\n",
    "        nn.BatchNorm2d(input_channels), nn.ReLU(),\n",
    "        nn.Conv2d(input_channels, num_channels, kernel_size=1),\n",
    "        nn.AvgPool2d(kernel_size=2, stride=2))"
   ]
  },
  {
   "cell_type": "code",
   "execution_count": 8,
   "metadata": {},
   "outputs": [],
   "source": [
    "b1 = nn.Sequential(\n",
    "    nn.Conv2d(3, 224, kernel_size=7, stride=2, padding=3),\n",
    "    nn.BatchNorm2d(224), nn.ReLU(),\n",
    "    nn.MaxPool2d(kernel_size=3, stride=2, padding=1))"
   ]
  },
  {
   "cell_type": "code",
   "execution_count": 9,
   "metadata": {},
   "outputs": [],
   "source": [
    "num_channels, growth_rate = 224, 32\n",
    "num_convs_in_dense_blocks = [4, 4, 4, 4]\n",
    "blks = []\n",
    "for i, num_convs in enumerate(num_convs_in_dense_blocks):\n",
    "    blks.append(DenseBlock(num_convs, num_channels, growth_rate))\n",
    "    # This is the number of output channels in the previous dense block\n",
    "    num_channels += num_convs * growth_rate\n",
    "    # A transition layer that haves the number of channels is added between\n",
    "    # the dense blocks\n",
    "    if i != len(num_convs_in_dense_blocks) - 1:\n",
    "        blks.append(transition_block(num_channels, num_channels // 2))\n",
    "        num_channels = num_channels // 2"
   ]
  },
  {
   "cell_type": "markdown",
   "metadata": {},
   "source": [
    "### Model Traning"
   ]
  },
  {
   "cell_type": "code",
   "execution_count": 10,
   "metadata": {},
   "outputs": [],
   "source": [
    "def get_num_correct(preds, labels):\n",
    "    return preds.argmax(dim=1).eq(labels).sum().item()"
   ]
  },
  {
   "cell_type": "code",
   "execution_count": 11,
   "metadata": {},
   "outputs": [],
   "source": [
    "def init_weights(m):\n",
    "        if type(m) == nn.Linear or type(m) == nn.Conv2d:\n",
    "           torch.nn.init.xavier_uniform_(m.weight)"
   ]
  },
  {
   "cell_type": "code",
   "execution_count": 12,
   "metadata": {},
   "outputs": [],
   "source": [
    "net = nn.Sequential(\n",
    "    b1, *blks,\n",
    "    nn.BatchNorm2d(num_channels), nn.ReLU(),\n",
    "    nn.AdaptiveMaxPool2d((1, 1)),\n",
    "    nn.Flatten(),\n",
    "    nn.Linear(num_channels, 2))"
   ]
  },
  {
   "cell_type": "code",
   "execution_count": 13,
   "metadata": {},
   "outputs": [],
   "source": [
    "#create TensorBorad\n",
    "# default `log_dir` is \"runs\" - we'll be more specific here\n",
    "writer = SummaryWriter(comment=\"test_old_Text_analyst\")"
   ]
  },
  {
   "cell_type": "code",
   "execution_count": 14,
   "metadata": {},
   "outputs": [],
   "source": [
    "df = pd.read_csv('../input/data.csv')\n",
    "X_ = df.image_path.values\n",
    "y_ = df.target.values"
   ]
  },
  {
   "cell_type": "code",
   "execution_count": 15,
   "metadata": {},
   "outputs": [],
   "source": [
    "#TODO Splite data on train and test\n",
    "(xtrain, xtest, ytrain, ytest) = train_test_split(X_, y_,test_size=0.25, random_state=42)\n"
   ]
  },
  {
   "cell_type": "code",
   "execution_count": 16,
   "metadata": {},
   "outputs": [],
   "source": [
    "train_dataset = ImageDataset(xtrain, ytrain, 0)"
   ]
  },
  {
   "cell_type": "code",
   "execution_count": 17,
   "metadata": {},
   "outputs": [],
   "source": [
    "def train(num_epochs, lr_list, batch_size_list):\n",
    "    device = torch.device('cuda:0' if torch.cuda.is_available() else 'cpu')\n",
    "    for batch_size in batch_size_list:\n",
    "       for lr in lr_list:\n",
    "          net = nn.Sequential(\n",
    "               b1, *blks,\n",
    "               nn.BatchNorm2d(num_channels), nn.ReLU(),\n",
    "               nn.AdaptiveMaxPool2d((1, 1)),\n",
    "               nn.Flatten(),\n",
    "               nn.Linear(num_channels, 2))\n",
    "\n",
    "   \n",
    "          train_data = torch.utils.data.DataLoader(train_dataset, batch_size=batch_size)\n",
    "          writer = SummaryWriter(comment=f' batch_size={batch_size} lr={lr}')\n",
    "          optimizer = torch.optim.SGD(net.parameters(), lr=lr)\n",
    "          net.apply(init_weights)\n",
    "          print('training on batch_size={batch_size}, lr={lr} and ', device)\n",
    "          net.to(device)\n",
    "          optimizer = torch.optim.SGD(net.parameters(), lr=lr)\n",
    "          loss = nn.CrossEntropyLoss()\n",
    "          for epoch in range(num_epochs):\n",
    "             running_loss = 0.0\n",
    "             running_correct = 0\n",
    "        # Sum of training loss, sum of training accuracy, no. of examples\n",
    "             for i ,(X, y) in enumerate(train_data):\n",
    "                X, y = X.to(device), y.to(device)\n",
    "                optimizer.zero_grad()\n",
    "                y_hat = net(X)\n",
    "\n",
    "                l = loss(y_hat, y)\n",
    "                running_loss += l.item()*batch_size\n",
    "                running_correct += get_num_correct(y_hat, y)\n",
    "            \n",
    "                l.backward()\n",
    "                optimizer.step()\n",
    "             #fore Tensorborad\n",
    "            \n",
    "\n",
    "             writer.add_scalar('training loss',\n",
    "                     running_loss,\n",
    "                     epoch)\n",
    "             writer.add_scalar('training correct',\n",
    "                     running_correct,\n",
    "                     epoch)\n",
    "             # log the epoch accuracy\n",
    "             writer.add_scalar('training accuracy',\n",
    "                      running_correct/len(train_data),\n",
    "                      epoch)\n",
    "        \n",
    "             for name, weight in net.named_parameters():\n",
    "                writer.add_histogram(name,weight, epoch)\n",
    "                writer.add_histogram(f'{name}.grad',weight.grad, epoch)\n",
    "        \n",
    "             print(f\"Epoch {epoch+1} train loss: {running_loss/len(train_data):.3f} train acc: {running_correct/len(train_data)}\")\n",
    "    print('Finished Training')"
   ]
  },
  {
   "cell_type": "code",
   "execution_count": 18,
   "metadata": {},
   "outputs": [
    {
     "name": "stdout",
     "output_type": "stream",
     "text": [
      "training on batch_size={batch_size}, lr={lr} and  cpu\n"
     ]
    },
    {
     "name": "stderr",
     "output_type": "stream",
     "text": [
      "<ipython-input-4-6a56d1d4b421>:15: DeprecationWarning: an integer is required (got type numpy.float64).  Implicit conversion to integers using __int__ is deprecated, and may be removed in a future version of Python.\n",
      "  return image, torch.tensor(label, dtype=torch.long)\n"
     ]
    },
    {
     "name": "stdout",
     "output_type": "stream",
     "text": [
      "Epoch 1 train loss: 10.146 train acc: 3.2\n",
      "Epoch 2 train loss: 6.578 train acc: 3.4\n",
      "Epoch 3 train loss: 1.744 train acc: 4.2\n",
      "Epoch 4 train loss: 0.617 train acc: 4.5\n",
      "Epoch 5 train loss: 0.214 train acc: 4.7\n",
      "Epoch 6 train loss: 0.038 train acc: 4.8\n",
      "Epoch 7 train loss: 0.027 train acc: 4.8\n",
      "Epoch 8 train loss: 0.023 train acc: 4.8\n",
      "Epoch 9 train loss: 0.020 train acc: 4.8\n",
      "Epoch 10 train loss: 0.018 train acc: 4.8\n",
      "training on batch_size={batch_size}, lr={lr} and  cpu\n",
      "Epoch 1 train loss: 3.391 train acc: 3.7\n",
      "Epoch 2 train loss: 2.842 train acc: 3.6\n",
      "Epoch 3 train loss: 1.374 train acc: 4.1\n",
      "Epoch 4 train loss: 0.353 train acc: 4.8\n",
      "Epoch 5 train loss: 0.129 train acc: 4.8\n",
      "Epoch 6 train loss: 0.083 train acc: 4.8\n",
      "Epoch 7 train loss: 0.067 train acc: 4.8\n",
      "Epoch 8 train loss: 0.058 train acc: 4.8\n",
      "Epoch 9 train loss: 0.051 train acc: 4.8\n",
      "Epoch 10 train loss: 0.046 train acc: 4.8\n",
      "training on batch_size={batch_size}, lr={lr} and  cpu\n",
      "Epoch 1 train loss: 3.830 train acc: 3.7\n",
      "Epoch 2 train loss: 1.694 train acc: 4.0\n",
      "Epoch 3 train loss: 0.878 train acc: 4.6\n",
      "Epoch 4 train loss: 0.571 train acc: 4.6\n",
      "Epoch 5 train loss: 0.448 train acc: 4.8\n",
      "Epoch 6 train loss: 0.373 train acc: 4.8\n",
      "Epoch 7 train loss: 0.326 train acc: 4.8\n",
      "Epoch 8 train loss: 0.291 train acc: 4.8\n",
      "Epoch 9 train loss: 0.264 train acc: 4.8\n",
      "Epoch 10 train loss: 0.243 train acc: 4.8\n",
      "training on batch_size={batch_size}, lr={lr} and  cpu\n",
      "Epoch 1 train loss: 3.755 train acc: 2.9\n",
      "Epoch 2 train loss: 3.155 train acc: 3.0\n",
      "Epoch 3 train loss: 2.716 train acc: 3.5\n",
      "Epoch 4 train loss: 2.386 train acc: 3.8\n",
      "Epoch 5 train loss: 2.143 train acc: 4.1\n",
      "Epoch 6 train loss: 1.965 train acc: 4.1\n",
      "Epoch 7 train loss: 1.820 train acc: 4.1\n",
      "Epoch 8 train loss: 1.693 train acc: 4.2\n",
      "Epoch 9 train loss: 1.585 train acc: 4.4\n",
      "Epoch 10 train loss: 1.489 train acc: 4.4\n",
      "training on batch_size={batch_size}, lr={lr} and  cpu\n",
      "Epoch 1 train loss: 15.242 train acc: 5.4\n",
      "Epoch 2 train loss: 12.576 train acc: 6.8\n",
      "Epoch 3 train loss: 2.969 train acc: 8.8\n",
      "Epoch 4 train loss: 1.018 train acc: 9.4\n",
      "Epoch 5 train loss: 0.569 train acc: 9.6\n",
      "Epoch 6 train loss: 0.178 train acc: 9.6\n",
      "Epoch 7 train loss: 0.094 train acc: 9.6\n",
      "Epoch 8 train loss: 0.079 train acc: 9.6\n",
      "Epoch 9 train loss: 0.069 train acc: 9.6\n",
      "Epoch 10 train loss: 0.062 train acc: 9.6\n",
      "training on batch_size={batch_size}, lr={lr} and  cpu\n",
      "Epoch 1 train loss: 11.527 train acc: 5.2\n",
      "Epoch 2 train loss: 4.570 train acc: 7.6\n",
      "Epoch 3 train loss: 2.303 train acc: 9.2\n",
      "Epoch 4 train loss: 0.726 train acc: 9.6\n",
      "Epoch 5 train loss: 0.307 train acc: 9.6\n",
      "Epoch 6 train loss: 0.227 train acc: 9.6\n",
      "Epoch 7 train loss: 0.191 train acc: 9.6\n",
      "Epoch 8 train loss: 0.167 train acc: 9.6\n",
      "Epoch 9 train loss: 0.149 train acc: 9.6\n",
      "Epoch 10 train loss: 0.135 train acc: 9.6\n",
      "training on batch_size={batch_size}, lr={lr} and  cpu\n",
      "Epoch 1 train loss: 12.302 train acc: 7.6\n",
      "Epoch 2 train loss: 8.825 train acc: 7.6\n",
      "Epoch 3 train loss: 6.405 train acc: 7.6\n",
      "Epoch 4 train loss: 4.514 train acc: 7.6\n",
      "Epoch 5 train loss: 3.203 train acc: 7.8\n",
      "Epoch 6 train loss: 2.408 train acc: 8.2\n",
      "Epoch 7 train loss: 1.843 train acc: 8.8\n",
      "Epoch 8 train loss: 1.508 train acc: 9.0\n",
      "Epoch 9 train loss: 1.304 train acc: 9.2\n",
      "Epoch 10 train loss: 1.154 train acc: 9.4\n",
      "training on batch_size={batch_size}, lr={lr} and  cpu\n",
      "Epoch 1 train loss: 29.088 train acc: 2.0\n",
      "Epoch 2 train loss: 26.642 train acc: 2.0\n",
      "Epoch 3 train loss: 24.609 train acc: 2.0\n",
      "Epoch 4 train loss: 22.829 train acc: 2.0\n",
      "Epoch 5 train loss: 21.309 train acc: 2.0\n",
      "Epoch 6 train loss: 19.922 train acc: 2.0\n",
      "Epoch 7 train loss: 18.663 train acc: 2.0\n",
      "Epoch 8 train loss: 17.497 train acc: 2.0\n",
      "Epoch 9 train loss: 16.423 train acc: 2.0\n",
      "Epoch 10 train loss: 15.425 train acc: 2.0\n",
      "training on batch_size={batch_size}, lr={lr} and  cpu\n",
      "Epoch 1 train loss: 47.407 train acc: 10.0\n",
      "Epoch 2 train loss: 17.273 train acc: 11.666666666666666\n",
      "Epoch 3 train loss: 13.127 train acc: 12.0\n",
      "Epoch 4 train loss: 3.000 train acc: 15.666666666666666\n",
      "Epoch 5 train loss: 5.222 train acc: 13.666666666666666\n",
      "Epoch 6 train loss: 1.658 train acc: 15.0\n",
      "Epoch 7 train loss: 0.250 train acc: 16.0\n",
      "Epoch 8 train loss: 0.192 train acc: 16.0\n",
      "Epoch 9 train loss: 0.163 train acc: 16.0\n",
      "Epoch 10 train loss: 0.144 train acc: 16.0\n",
      "training on batch_size={batch_size}, lr={lr} and  cpu\n",
      "Epoch 1 train loss: 19.144 train acc: 8.333333333333334\n",
      "Epoch 2 train loss: 11.148 train acc: 12.333333333333334\n",
      "Epoch 3 train loss: 4.461 train acc: 14.666666666666666\n",
      "Epoch 4 train loss: 1.950 train acc: 15.666666666666666\n",
      "Epoch 5 train loss: 0.923 train acc: 16.0\n",
      "Epoch 6 train loss: 0.707 train acc: 16.0\n",
      "Epoch 7 train loss: 0.598 train acc: 16.0\n",
      "Epoch 8 train loss: 0.521 train acc: 16.0\n",
      "Epoch 9 train loss: 0.469 train acc: 16.0\n",
      "Epoch 10 train loss: 0.426 train acc: 16.0\n",
      "training on batch_size={batch_size}, lr={lr} and  cpu\n",
      "Epoch 1 train loss: 33.404 train acc: 12.666666666666666\n",
      "Epoch 2 train loss: 24.572 train acc: 12.666666666666666\n",
      "Epoch 3 train loss: 18.537 train acc: 12.666666666666666\n",
      "Epoch 4 train loss: 14.014 train acc: 12.666666666666666\n",
      "Epoch 5 train loss: 10.709 train acc: 12.666666666666666\n",
      "Epoch 6 train loss: 8.404 train acc: 13.333333333333334\n",
      "Epoch 7 train loss: 6.625 train acc: 13.333333333333334\n",
      "Epoch 8 train loss: 5.257 train acc: 13.333333333333334\n",
      "Epoch 9 train loss: 4.315 train acc: 13.333333333333334\n",
      "Epoch 10 train loss: 3.574 train acc: 13.666666666666666\n",
      "training on batch_size={batch_size}, lr={lr} and  cpu\n",
      "Epoch 1 train loss: 20.052 train acc: 7.0\n",
      "Epoch 2 train loss: 19.008 train acc: 7.0\n",
      "Epoch 3 train loss: 18.053 train acc: 7.0\n",
      "Epoch 4 train loss: 17.219 train acc: 7.0\n",
      "Epoch 5 train loss: 16.467 train acc: 7.666666666666667\n",
      "Epoch 6 train loss: 15.766 train acc: 7.666666666666667\n",
      "Epoch 7 train loss: 15.123 train acc: 7.666666666666667\n",
      "Epoch 8 train loss: 14.519 train acc: 8.0\n",
      "Epoch 9 train loss: 13.951 train acc: 8.333333333333334\n",
      "Epoch 10 train loss: 13.412 train acc: 9.333333333333334\n",
      "Finished Training\n"
     ]
    }
   ],
   "source": [
    "batch_size_list = [5, 10, 20]\n",
    "lr_list = [.01, .001, .0001, .00001]\n",
    "num_epochs = 10\n",
    "train(num_epochs, lr_list, batch_size_list)\n",
    "torch.save(net.state_dict(), 'mlp.params')"
   ]
  },
  {
   "cell_type": "markdown",
   "metadata": {},
   "source": [
    "### Evaluation Model"
   ]
  },
  {
   "cell_type": "code",
   "execution_count": 19,
   "metadata": {},
   "outputs": [],
   "source": [
    "train_data = torch.utils.data.DataLoader(train_dataset, batch_size=20)\n",
    "net = nn.Sequential(\n",
    "               b1, *blks,\n",
    "               nn.BatchNorm2d(num_channels), nn.ReLU(),\n",
    "               nn.AdaptiveMaxPool2d((1, 1)),\n",
    "               nn.Flatten(),\n",
    "               nn.Linear(num_channels, 2))"
   ]
  },
  {
   "cell_type": "code",
   "execution_count": 20,
   "metadata": {},
   "outputs": [],
   "source": [
    "writer = SummaryWriter(comment=\"best_old_Text_analyst\")"
   ]
  },
  {
   "cell_type": "code",
   "execution_count": 21,
   "metadata": {},
   "outputs": [
    {
     "name": "stdout",
     "output_type": "stream",
     "text": [
      "training on cpu\n"
     ]
    },
    {
     "name": "stderr",
     "output_type": "stream",
     "text": [
      "<ipython-input-4-6a56d1d4b421>:15: DeprecationWarning: an integer is required (got type numpy.float64).  Implicit conversion to integers using __int__ is deprecated, and may be removed in a future version of Python.\n",
      "  return image, torch.tensor(label, dtype=torch.long)\n"
     ]
    },
    {
     "name": "stdout",
     "output_type": "stream",
     "text": [
      "Epoch 1 train loss: 0.765 train acc: 11.666666666666666\n",
      "Epoch 2 train loss: 0.331 train acc: 14.333333333333334\n",
      "Epoch 3 train loss: 0.147 train acc: 15.666666666666666\n",
      "Epoch 4 train loss: 0.061 train acc: 16.0\n",
      "Epoch 5 train loss: 0.040 train acc: 16.0\n",
      "Epoch 6 train loss: 0.033 train acc: 16.0\n",
      "Epoch 7 train loss: 0.028 train acc: 16.0\n",
      "Epoch 8 train loss: 0.025 train acc: 16.0\n",
      "Epoch 9 train loss: 0.023 train acc: 16.0\n",
      "Epoch 10 train loss: 0.021 train acc: 16.0\n",
      "Finished Training\n"
     ]
    }
   ],
   "source": [
    "def train(net, train_iter, num_epochs, lr):\n",
    "    device = torch.device('cuda:0' if torch.cuda.is_available() else 'cpu')\n",
    "    def init_weights(m):\n",
    "        if type(m) == nn.Linear or type(m) == nn.Conv2d:\n",
    "           torch.nn.init.xavier_uniform_(m.weight)\n",
    "    net.apply(init_weights)\n",
    "    print('training on', device)\n",
    "    net.to(device)\n",
    "    optimizer = torch.optim.SGD(net.parameters(), lr=lr)\n",
    "    loss = nn.CrossEntropyLoss()\n",
    "    for epoch in range(num_epochs):\n",
    "         running_loss = 0.0\n",
    "         running_correct = 0\n",
    "        # Sum of training loss, sum of training accuracy, no. of examples\n",
    "         for i ,(X, y) in enumerate(train_data):\n",
    "            X, y = X.to(device), y.to(device)\n",
    "            optimizer.zero_grad()\n",
    "            y_hat = net(X)\n",
    "\n",
    "            l = loss(y_hat, y)\n",
    "            running_loss += l.item()\n",
    "            running_correct += get_num_correct(y_hat, y)\n",
    "            \n",
    "            l.backward()\n",
    "            optimizer.step()\n",
    "            #fore Tensorborad\n",
    "            \n",
    "\n",
    "         writer.add_scalar('training loss',\n",
    "                    running_loss,\n",
    "                    epoch)\n",
    "         writer.add_scalar('training correct',\n",
    "                    running_correct,\n",
    "                    epoch)\n",
    "        # log the epoch accuracy\n",
    "         writer.add_scalar('training accuracy',\n",
    "                    running_correct/len(train_data),\n",
    "                    epoch)\n",
    "        \n",
    "         for name, weight in net.named_parameters():\n",
    "           writer.add_histogram(name,weight, epoch)\n",
    "           writer.add_histogram(f'{name}.grad',weight.grad, epoch)\n",
    "        \n",
    "         print(f\"Epoch {epoch+1} train loss: {running_loss/len(train_data):.3f} train acc: {running_correct/len(train_data)}\")\n",
    "    print('Finished Training')\n",
    "train(net, train_data, 10, 0.001)"
   ]
  },
  {
   "cell_type": "code",
   "execution_count": 22,
   "metadata": {},
   "outputs": [],
   "source": [
    "def create_confusion_matrix(y_true, y_predicted):\n",
    "    return confusion_matrix(y_true, y_predicted)"
   ]
  },
  {
   "cell_type": "code",
   "execution_count": 36,
   "metadata": {},
   "outputs": [],
   "source": [
    "def plot_confusion_matrix(cm, title='Confusion matrix', cmap=plt.get_cmap('Blues')): \n",
    "    accuracy = np.trace(cm) / float(np.sum(cm))\n",
    "    misclass = 1 - accuracy\n",
    "\n",
    "    fig =plt.figure(figsize=(8, 6))\n",
    "    plt.imshow(cm, interpolation='nearest', cmap=cmap)\n",
    "    plt.title(title)\n",
    "    plt.colorbar(ticks=range(cm.min(), cm.max() + 1, int((cm.max() - cm.min()) / 10)))\n",
    "\n",
    "    target_names = ['0', '1']\n",
    "    tick_marks = np.arange(len(target_names))\n",
    "    plt.xticks(tick_marks, target_names)\n",
    "    plt.yticks(tick_marks, target_names)\n",
    "\n",
    "    thresh = cm.max() / 2\n",
    "    for i in range(cm.shape[0]):\n",
    "        for j in range(cm.shape[1]):\n",
    "            plt.text(j, i, \"{:,}\".format(cm[i, j]),\n",
    "            horizontalalignment=\"center\",\n",
    "            color=\"white\" if cm[i, j] > thresh else \"black\")\n",
    "\n",
    "    plt.tight_layout()\n",
    "    plt.ylabel('True value')\n",
    "    plt.xlabel('Predicted value\\naccuracy={:0.4f}; misclass={:0.4f}'.format(accuracy, misclass))\n",
    "    plt.show()\n",
    "    writer.add_figure(title, fig)"
   ]
  },
  {
   "cell_type": "code",
   "execution_count": 26,
   "metadata": {},
   "outputs": [],
   "source": [
    "train_dataset = ImageDataset(xtrain, ytrain, 0)\n",
    "train_data = torch.utils.data.DataLoader(train_dataset)"
   ]
  },
  {
   "cell_type": "code",
   "execution_count": 27,
   "metadata": {},
   "outputs": [
    {
     "name": "stderr",
     "output_type": "stream",
     "text": [
      "<ipython-input-4-6a56d1d4b421>:15: DeprecationWarning: an integer is required (got type numpy.float64).  Implicit conversion to integers using __int__ is deprecated, and may be removed in a future version of Python.\n",
      "  return image, torch.tensor(label, dtype=torch.long)\n"
     ]
    }
   ],
   "source": [
    "#X = []\n",
    "#y = []\n",
    "net.to('cpu')\n",
    "y_true = []\n",
    "y_predicted = []\n",
    "softmax = nn.Softmax(dim=1)\n",
    "for (image, label) in train_data:\n",
    "    y_true.append(label.detach())\n",
    "    y_predicted_tensor = net(image)\n",
    "    y_predicted_tensor = softmax(y_predicted_tensor)\n",
    "    y_predicted.append(torch.max(y_predicted_tensor, 1)[1])"
   ]
  },
  {
   "cell_type": "code",
   "execution_count": 37,
   "metadata": {},
   "outputs": [
    {
     "data": {
      "image/png": "[encoded data removed]",
      "text/plain": [
       "<Figure size 576x432 with 2 Axes>"
      ]
     },
     "metadata": {
      "needs_background": "light"
     },
     "output_type": "display_data"
    }
   ],
   "source": [
    "cm = create_confusion_matrix(y_true, y_predicted)\n",
    "plot_confusion_matrix(cm, 'Confusion matrix train data')"
   ]
  },
  {
   "cell_type": "code",
   "execution_count": null,
   "metadata": {},
   "outputs": [],
   "source": [
    "train_dataset = ImageDataset(xtest, ytest, 0)\n",
    "train_data = torch.utils.data.DataLoader(train_dataset)"
   ]
  },
  {
   "cell_type": "code",
   "execution_count": null,
   "metadata": {},
   "outputs": [],
   "source": [
    "net.to('cpu')\n",
    "y_true = []\n",
    "y_predicted = []\n",
    "softmax = nn.Softmax(dim=1)\n",
    "for (image, label) in train_data:\n",
    "    y_true.append(label.detach())\n",
    "    y_predicted_tensor = net(image)\n",
    "    y_predicted_tensor = softmax(y_predicted_tensor)\n",
    "    y_predicted.append(torch.max(y_predicted_tensor, 1)[1])"
   ]
  },
  {
   "cell_type": "code",
   "execution_count": null,
   "metadata": {},
   "outputs": [],
   "source": [
    "cm = create_confusion_matrix(y_true, y_predicted)\n",
    "plot_confusion_matrix(cm, 'Confusion matrix test data')"
   ]
  },
  {
   "cell_type": "code",
   "execution_count": null,
   "metadata": {},
   "outputs": [],
   "source": [
    "dataiter = iter(train_data)\n",
    "images, labels = dataiter.next()\n"
   ]
  },
  {
   "cell_type": "code",
   "execution_count": null,
   "metadata": {},
   "outputs": [],
   "source": [
    "def matplotlib_imshow(img, one_channel=False):\n",
    "    if one_channel:\n",
    "        img = img.mean(dim=0)\n",
    "    img = img / 2 + 0.5     # unnormalize\n",
    "    npimg = img.numpy()\n",
    "    if one_channel:\n",
    "        plt.imshow(npimg, cmap=\"Greys\")\n",
    "    else:\n",
    "        plt.imshow(np.transpose(npimg, (1, 2, 0)))\n"
   ]
  },
  {
   "cell_type": "code",
   "execution_count": null,
   "metadata": {},
   "outputs": [],
   "source": [
    "# create grid of images\n",
    "img_grid = torchvision.utils.make_grid(images)\n",
    "\n",
    "# show images\n",
    "matplotlib_imshow(img_grid, one_channel=True)\n",
    "\n",
    "# write to tensorboard\n",
    "writer.add_image('old_text_image_images', img_grid)\n",
    "net.to('cpu')\n",
    "writer.add_graph(net, images)"
   ]
  },
  {
   "cell_type": "code",
   "execution_count": null,
   "metadata": {},
   "outputs": [],
   "source": []
  },
  {
   "cell_type": "code",
   "execution_count": null,
   "metadata": {},
   "outputs": [],
   "source": []
  }
 ],
 "metadata": {
  "kernelspec": {
   "display_name": "Python 3",
   "language": "python",
   "name": "python3"
  },
  "language_info": {
   "codemirror_mode": {
    "name": "ipython",
    "version": 3
   },
   "file_extension": ".py",
   "mimetype": "text/x-python",
   "name": "python",
   "nbconvert_exporter": "python",
   "pygments_lexer": "ipython3",
   "version": "3.8.6"
  }
 },
 "nbformat": 4,
 "nbformat_minor": 4
}
