{
 "cells": [
  {
   "cell_type": "code",
   "execution_count": 98,
   "metadata": {},
   "outputs": [],
   "source": [
    "import torch\n",
    "import torchvision\n",
    "import torch.nn as nn\n",
    "import torch.optim as optim\n",
    "from torch.utils.data import DataLoader, Dataset\n",
    "import matplotlib.pyplot as plt\n",
    "from torchvision import transforms, datasets\n",
    "from PIL import Image\n",
    "\n",
    "from sklearn.model_selection import train_test_split\n",
    "\n",
    "import os\n",
    "import pandas as pd\n",
    "import numpy as np\n",
    "import joblib\n",
    "from imutils import paths\n",
    "from sklearn.preprocessing import LabelBinarizer\n",
    "from tqdm import tqdm\n",
    "import albumentations\n",
    "import cv2\n",
    "\n",
    "import matplotlib.pyplot as plt\n",
    "\n",
    "from sklearn import svm, datasets\n",
    "from sklearn.metrics import confusion_matrix\n",
    "from sklearn.metrics import plot_confusion_matrix"
   ]
  },
  {
   "cell_type": "code",
   "execution_count": 99,
   "metadata": {},
   "outputs": [],
   "source": [
    "transfrom=transforms.Compose([transforms.Resize(224),\n",
    "                        transforms.CenterCrop(224),\n",
    "                             transforms.ToTensor()])"
   ]
  },
  {
   "cell_type": "code",
   "execution_count": 100,
   "metadata": {},
   "outputs": [],
   "source": [
    "#https://debuggercafe.com/creating-efficient-image-data-loaders-in-pytorch-for-deep-learning/"
   ]
  },
  {
   "cell_type": "code",
   "execution_count": 101,
   "metadata": {},
   "outputs": [],
   "source": [
    "class ImageDataset(Dataset):\n",
    "    \n",
    "    def __init__(self, path, labels, tfms=None):\n",
    "        # data loading\n",
    "        self.X = path\n",
    "        self.y = labels\n",
    "        \n",
    "    def __getitem__(self, index):\n",
    "        # dataset[0]\n",
    "        image = Image.open(self.X[index]).convert('RGB')\n",
    "        image = transfrom(image)\n",
    "        #image = np.transpose(image, (2, 0, 1))\n",
    "        type(image)\n",
    "        label = self.y[index]\n",
    "        return image, torch.tensor(label, dtype=torch.long)\n",
    "        \n",
    "    def __len__(self):\n",
    "        # len(dataset)\n",
    "        return(len(self.X))\n",
    "    "
   ]
  },
  {
   "cell_type": "code",
   "execution_count": 102,
   "metadata": {},
   "outputs": [],
   "source": [
    "df = pd.read_csv('../input/data.csv')\n",
    "X_ = df.image_path.values\n",
    "y_ = df.target.values"
   ]
  },
  {
   "cell_type": "code",
   "execution_count": 103,
   "metadata": {},
   "outputs": [],
   "source": [
    "#(xtrain, xtest, ytrain, ytest) = (train_test_split(X_, y_,test_size=0.25, random_state=42))\n"
   ]
  },
  {
   "cell_type": "code",
   "execution_count": 104,
   "metadata": {},
   "outputs": [],
   "source": [
    "train_data = ImageDataset(X_, y_, 0)"
   ]
  },
  {
   "cell_type": "code",
   "execution_count": 105,
   "metadata": {},
   "outputs": [],
   "source": [
    "train_data = torch.utils.data.DataLoader(train_data, batch_size=100)"
   ]
  },
  {
   "cell_type": "code",
   "execution_count": 106,
   "metadata": {},
   "outputs": [],
   "source": [
    "def conv_block(input_channels, num_channels):\n",
    "    return nn.Sequential(\n",
    "        nn.BatchNorm2d(input_channels), nn.ReLU(),\n",
    "        nn.Conv2d(input_channels, num_channels, kernel_size=3, padding=1))"
   ]
  },
  {
   "cell_type": "code",
   "execution_count": 107,
   "metadata": {},
   "outputs": [],
   "source": [
    "class DenseBlock(nn.Module):\n",
    "    def __init__(self, num_convs, input_channels, num_channels):\n",
    "        super(DenseBlock, self).__init__()\n",
    "        layer = []\n",
    "        for i in range(num_convs):\n",
    "            layer.append(conv_block(\n",
    "                num_channels * i + input_channels, num_channels))\n",
    "        self.net = nn.Sequential(*layer)\n",
    "\n",
    "    def forward(self, X):\n",
    "        for blk in self.net:\n",
    "            Y = blk(X)\n",
    "            # Concatenate the input and output of each block on the channel\n",
    "            # dimension\n",
    "            X = torch.cat((X, Y), dim=1)\n",
    "        return X"
   ]
  },
  {
   "cell_type": "code",
   "execution_count": 108,
   "metadata": {},
   "outputs": [],
   "source": [
    "def transition_block(input_channels, num_channels):\n",
    "    return nn.Sequential(\n",
    "        nn.BatchNorm2d(input_channels), nn.ReLU(),\n",
    "        nn.Conv2d(input_channels, num_channels, kernel_size=1),\n",
    "        nn.AvgPool2d(kernel_size=2, stride=2))"
   ]
  },
  {
   "cell_type": "code",
   "execution_count": 109,
   "metadata": {},
   "outputs": [],
   "source": [
    "b1 = nn.Sequential(\n",
    "    nn.Conv2d(3, 224, kernel_size=7, stride=2, padding=3),\n",
    "    nn.BatchNorm2d(224), nn.ReLU(),\n",
    "    nn.MaxPool2d(kernel_size=3, stride=2, padding=1))"
   ]
  },
  {
   "cell_type": "code",
   "execution_count": 110,
   "metadata": {},
   "outputs": [],
   "source": [
    "num_channels, growth_rate = 224, 32\n",
    "num_convs_in_dense_blocks = [4, 4, 4, 4]\n",
    "blks = []\n",
    "for i, num_convs in enumerate(num_convs_in_dense_blocks):\n",
    "    blks.append(DenseBlock(num_convs, num_channels, growth_rate))\n",
    "    # This is the number of output channels in the previous dense block\n",
    "    num_channels += num_convs * growth_rate\n",
    "    # A transition layer that haves the number of channels is added between\n",
    "    # the dense blocks\n",
    "    if i != len(num_convs_in_dense_blocks) - 1:\n",
    "        blks.append(transition_block(num_channels, num_channels // 2))\n",
    "        num_channels = num_channels // 2"
   ]
  },
  {
   "cell_type": "code",
   "execution_count": 111,
   "metadata": {},
   "outputs": [],
   "source": [
    "net = nn.Sequential(\n",
    "    b1, *blks,\n",
    "    nn.BatchNorm2d(num_channels), nn.ReLU(),\n",
    "    nn.AdaptiveMaxPool2d((1, 1)),\n",
    "    nn.Flatten(),\n",
    "    nn.Linear(num_channels, 2))"
   ]
  },
  {
   "cell_type": "code",
   "execution_count": 112,
   "metadata": {},
   "outputs": [],
   "source": [
    "def train(net, train_iter, num_epochs, lr):\n",
    "    device = torch.device('cuda' if torch.cuda.is_available() else 'cpu')\n",
    "    def init_weights(m):\n",
    "        if type(m) == nn.Linear or type(m) == nn.Conv2d:\n",
    "           torch.nn.init.xavier_uniform_(m.weight)\n",
    "    net.apply(init_weights)\n",
    "    print('training on', device)\n",
    "    net.to(device)\n",
    "    optimizer = torch.optim.SGD(net.parameters(), lr=lr)\n",
    "    loss = nn.CrossEntropyLoss()\n",
    "    for epoch in range(num_epochs):\n",
    "        # Sum of training loss, sum of training accuracy, no. of examples\n",
    "         for i ,(X, y) in enumerate(train_data):\n",
    "            X, y = X.to(device), y.to(device)\n",
    "            optimizer.zero_grad()\n",
    "            y_hat = net(X)\n",
    "            l = loss(y_hat, y)\n",
    "            l.backward()\n",
    "            optimizer.step()"
   ]
  },
  {
   "cell_type": "code",
   "execution_count": 113,
   "metadata": {},
   "outputs": [
    {
     "name": "stdout",
     "output_type": "stream",
     "text": [
      "training on cpu\n"
     ]
    },
    {
     "name": "stderr",
     "output_type": "stream",
     "text": [
      "<ipython-input-101-6a56d1d4b421>:15: DeprecationWarning: an integer is required (got type numpy.float64).  Implicit conversion to integers using __int__ is deprecated, and may be removed in a future version of Python.\n",
      "  return image, torch.tensor(label, dtype=torch.long)\n"
     ]
    },
    {
     "ename": "KeyboardInterrupt",
     "evalue": "",
     "output_type": "error",
     "traceback": [
      "\u001b[0;31m---------------------------------------------------------------------------\u001b[0m",
      "\u001b[0;31mKeyboardInterrupt\u001b[0m                         Traceback (most recent call last)",
      "\u001b[0;32m<ipython-input-113-c564405838ea>\u001b[0m in \u001b[0;36m<module>\u001b[0;34m\u001b[0m\n\u001b[1;32m      1\u001b[0m \u001b[0mdivice\u001b[0m \u001b[0;34m=\u001b[0m\u001b[0mtorch\u001b[0m\u001b[0;34m.\u001b[0m\u001b[0mdevice\u001b[0m\u001b[0;34m(\u001b[0m\u001b[0;34m\"cuda\"\u001b[0m\u001b[0;34m)\u001b[0m\u001b[0;34m\u001b[0m\u001b[0;34m\u001b[0m\u001b[0m\n\u001b[1;32m      2\u001b[0m \u001b[0mlr\u001b[0m\u001b[0;34m,\u001b[0m \u001b[0mnum_epochs\u001b[0m\u001b[0;34m,\u001b[0m \u001b[0mbatch_size\u001b[0m \u001b[0;34m=\u001b[0m \u001b[0;36m0.1\u001b[0m\u001b[0;34m,\u001b[0m \u001b[0;36m10\u001b[0m\u001b[0;34m,\u001b[0m \u001b[0;36m256\u001b[0m\u001b[0;34m\u001b[0m\u001b[0;34m\u001b[0m\u001b[0m\n\u001b[0;32m----> 3\u001b[0;31m \u001b[0mtrain\u001b[0m\u001b[0;34m(\u001b[0m\u001b[0mnet\u001b[0m\u001b[0;34m,\u001b[0m \u001b[0mtrain_data\u001b[0m\u001b[0;34m,\u001b[0m \u001b[0mnum_epochs\u001b[0m\u001b[0;34m,\u001b[0m \u001b[0mlr\u001b[0m\u001b[0;34m)\u001b[0m\u001b[0;34m\u001b[0m\u001b[0;34m\u001b[0m\u001b[0m\n\u001b[0m\u001b[1;32m      4\u001b[0m \u001b[0mtorch\u001b[0m\u001b[0;34m.\u001b[0m\u001b[0msave\u001b[0m\u001b[0;34m(\u001b[0m\u001b[0mnet\u001b[0m\u001b[0;34m.\u001b[0m\u001b[0mstate_dict\u001b[0m\u001b[0;34m(\u001b[0m\u001b[0;34m)\u001b[0m\u001b[0;34m,\u001b[0m \u001b[0;34m'mlp.params'\u001b[0m\u001b[0;34m)\u001b[0m\u001b[0;34m\u001b[0m\u001b[0;34m\u001b[0m\u001b[0m\n",
      "\u001b[0;32m<ipython-input-112-bd35bddd5cb2>\u001b[0m in \u001b[0;36mtrain\u001b[0;34m(net, train_iter, num_epochs, lr)\u001b[0m\n\u001b[1;32m     16\u001b[0m             \u001b[0my_hat\u001b[0m \u001b[0;34m=\u001b[0m \u001b[0mnet\u001b[0m\u001b[0;34m(\u001b[0m\u001b[0mX\u001b[0m\u001b[0;34m)\u001b[0m\u001b[0;34m\u001b[0m\u001b[0;34m\u001b[0m\u001b[0m\n\u001b[1;32m     17\u001b[0m             \u001b[0ml\u001b[0m \u001b[0;34m=\u001b[0m \u001b[0mloss\u001b[0m\u001b[0;34m(\u001b[0m\u001b[0my_hat\u001b[0m\u001b[0;34m,\u001b[0m \u001b[0my\u001b[0m\u001b[0;34m)\u001b[0m\u001b[0;34m\u001b[0m\u001b[0;34m\u001b[0m\u001b[0m\n\u001b[0;32m---> 18\u001b[0;31m             \u001b[0ml\u001b[0m\u001b[0;34m.\u001b[0m\u001b[0mbackward\u001b[0m\u001b[0;34m(\u001b[0m\u001b[0;34m)\u001b[0m\u001b[0;34m\u001b[0m\u001b[0;34m\u001b[0m\u001b[0m\n\u001b[0m\u001b[1;32m     19\u001b[0m             \u001b[0moptimizer\u001b[0m\u001b[0;34m.\u001b[0m\u001b[0mstep\u001b[0m\u001b[0;34m(\u001b[0m\u001b[0;34m)\u001b[0m\u001b[0;34m\u001b[0m\u001b[0;34m\u001b[0m\u001b[0m\n",
      "\u001b[0;32m/usr/local/lib/python3.8/site-packages/torch/tensor.py\u001b[0m in \u001b[0;36mbackward\u001b[0;34m(self, gradient, retain_graph, create_graph)\u001b[0m\n\u001b[1;32m    219\u001b[0m                 \u001b[0mretain_graph\u001b[0m\u001b[0;34m=\u001b[0m\u001b[0mretain_graph\u001b[0m\u001b[0;34m,\u001b[0m\u001b[0;34m\u001b[0m\u001b[0;34m\u001b[0m\u001b[0m\n\u001b[1;32m    220\u001b[0m                 create_graph=create_graph)\n\u001b[0;32m--> 221\u001b[0;31m         \u001b[0mtorch\u001b[0m\u001b[0;34m.\u001b[0m\u001b[0mautograd\u001b[0m\u001b[0;34m.\u001b[0m\u001b[0mbackward\u001b[0m\u001b[0;34m(\u001b[0m\u001b[0mself\u001b[0m\u001b[0;34m,\u001b[0m \u001b[0mgradient\u001b[0m\u001b[0;34m,\u001b[0m \u001b[0mretain_graph\u001b[0m\u001b[0;34m,\u001b[0m \u001b[0mcreate_graph\u001b[0m\u001b[0;34m)\u001b[0m\u001b[0;34m\u001b[0m\u001b[0;34m\u001b[0m\u001b[0m\n\u001b[0m\u001b[1;32m    222\u001b[0m \u001b[0;34m\u001b[0m\u001b[0m\n\u001b[1;32m    223\u001b[0m     \u001b[0;32mdef\u001b[0m \u001b[0mregister_hook\u001b[0m\u001b[0;34m(\u001b[0m\u001b[0mself\u001b[0m\u001b[0;34m,\u001b[0m \u001b[0mhook\u001b[0m\u001b[0;34m)\u001b[0m\u001b[0;34m:\u001b[0m\u001b[0;34m\u001b[0m\u001b[0;34m\u001b[0m\u001b[0m\n",
      "\u001b[0;32m/usr/local/lib/python3.8/site-packages/torch/autograd/__init__.py\u001b[0m in \u001b[0;36mbackward\u001b[0;34m(tensors, grad_tensors, retain_graph, create_graph, grad_variables)\u001b[0m\n\u001b[1;32m    128\u001b[0m         \u001b[0mretain_graph\u001b[0m \u001b[0;34m=\u001b[0m \u001b[0mcreate_graph\u001b[0m\u001b[0;34m\u001b[0m\u001b[0;34m\u001b[0m\u001b[0m\n\u001b[1;32m    129\u001b[0m \u001b[0;34m\u001b[0m\u001b[0m\n\u001b[0;32m--> 130\u001b[0;31m     Variable._execution_engine.run_backward(\n\u001b[0m\u001b[1;32m    131\u001b[0m         \u001b[0mtensors\u001b[0m\u001b[0;34m,\u001b[0m \u001b[0mgrad_tensors_\u001b[0m\u001b[0;34m,\u001b[0m \u001b[0mretain_graph\u001b[0m\u001b[0;34m,\u001b[0m \u001b[0mcreate_graph\u001b[0m\u001b[0;34m,\u001b[0m\u001b[0;34m\u001b[0m\u001b[0;34m\u001b[0m\u001b[0m\n\u001b[1;32m    132\u001b[0m         allow_unreachable=True)  # allow_unreachable flag\n",
      "\u001b[0;31mKeyboardInterrupt\u001b[0m: "
     ]
    }
   ],
   "source": [
    "divice =torch.device(\"cuda\")\n",
    "lr, num_epochs, batch_size = 0.1, 10, 256\n",
    "train(net, train_data, num_epochs, lr)\n",
    "torch.save(net.state_dict(), 'mlp.params')"
   ]
  },
  {
   "cell_type": "code",
   "execution_count": null,
   "metadata": {},
   "outputs": [],
   "source": []
  },
  {
   "cell_type": "code",
   "execution_count": null,
   "metadata": {},
   "outputs": [],
   "source": []
  },
  {
   "cell_type": "code",
   "execution_count": null,
   "metadata": {},
   "outputs": [],
   "source": [
    "def create_confusion_matrix(y_true, y_predicted):\n",
    "    return confusion_matrix(y_true, y_predicted)"
   ]
  },
  {
   "cell_type": "code",
   "execution_count": null,
   "metadata": {},
   "outputs": [],
   "source": [
    "def plot_confusion_matrix(cm, title='Confusion matrix', cmap=plt.get_cmap('Blues')): \n",
    "    accuracy = np.trace(cm) / float(np.sum(cm))\n",
    "    misclass = 1 - accuracy\n",
    "\n",
    "    plt.figure(figsize=(8, 6))\n",
    "    plt.imshow(cm, interpolation='nearest', cmap=cmap)\n",
    "    plt.title(title)\n",
    "    plt.colorbar(ticks=range(cm.min(), cm.max() + 1))\n",
    "\n",
    "    target_names = ['0', '1']\n",
    "    tick_marks = np.arange(len(target_names))\n",
    "    plt.xticks(tick_marks, target_names)\n",
    "    plt.yticks(tick_marks, target_names)\n",
    "\n",
    "    thresh = cm.max() / 2\n",
    "    for i in range(cm.shape[0]):\n",
    "        for j in range(cm.shape[1]):\n",
    "            plt.text(j, i, \"{:,}\".format(cm[i, j]),\n",
    "            horizontalalignment=\"center\",\n",
    "            color=\"white\" if cm[i, j] > thresh else \"black\")\n",
    "\n",
    "    plt.tight_layout()\n",
    "    plt.ylabel('True value')\n",
    "    plt.xlabel('Predicted value\\naccuracy={:0.4f}; misclass={:0.4f}'.format(accuracy, misclass))\n",
    "    plt.show()"
   ]
  },
  {
   "cell_type": "code",
   "execution_count": 92,
   "metadata": {},
   "outputs": [],
   "source": [
    "train_data = ImageDataset(X_, y_, 0)\n",
    "train_data = torch.utils.data.DataLoader(train_data)"
   ]
  },
  {
   "cell_type": "code",
   "execution_count": 95,
   "metadata": {},
   "outputs": [
    {
     "name": "stderr",
     "output_type": "stream",
     "text": [
      "<ipython-input-14-6a56d1d4b421>:15: DeprecationWarning: an integer is required (got type numpy.float64).  Implicit conversion to integers using __int__ is deprecated, and may be removed in a future version of Python.\n",
      "  return image, torch.tensor(label, dtype=torch.long)\n"
     ]
    }
   ],
   "source": [
    "#X = []\n",
    "#y = []\n",
    "y_true = []\n",
    "y_predicted = []\n",
    "softmax = nn.Softmax(dim=1)\n",
    "for (image, label) in train_data:\n",
    "    y_true.append(label)\n",
    "    y_predicted.append(net(image))\n",
    "y_predicted = softmax(y_predicted)"
   ]
  },
  {
   "cell_type": "code",
   "execution_count": 96,
   "metadata": {},
   "outputs": [
    {
     "name": "stdout",
     "output_type": "stream",
     "text": [
      "[tensor([0]), tensor([0]), tensor([1]), tensor([1]), tensor([0]), tensor([1]), tensor([0]), tensor([1]), tensor([0]), tensor([1]), tensor([1]), tensor([1]), tensor([1]), tensor([1]), tensor([1]), tensor([0]), tensor([1]), tensor([1]), tensor([1]), tensor([1]), tensor([1]), tensor([1]), tensor([1]), tensor([1]), tensor([0]), tensor([1]), tensor([0]), tensor([1]), tensor([0]), tensor([1]), tensor([1]), tensor([1]), tensor([1]), tensor([0]), tensor([0]), tensor([1]), tensor([1]), tensor([1]), tensor([1]), tensor([1]), tensor([1]), tensor([1]), tensor([0]), tensor([1]), tensor([1]), tensor([0]), tensor([1]), tensor([1]), tensor([1]), tensor([1]), tensor([1]), tensor([0]), tensor([1]), tensor([1]), tensor([1]), tensor([1]), tensor([1]), tensor([1]), tensor([1]), tensor([1]), tensor([1]), tensor([1]), tensor([1]), tensor([1]), tensor([1])]\n",
      "[tensor([[ 3.3978e+01,  7.2648e+01, -2.2373e+01, -3.3247e+00,  9.6014e-01,\n",
      "         -4.5063e+01, -1.4980e+01, -4.8642e+00,  6.6528e-02, -1.4780e+01]],\n",
      "       grad_fn=<AddmmBackward>), tensor([[ 30.8466,  60.4535, -19.4189,  -3.1037,  -0.2384, -36.9830, -11.7020,\n",
      "          -3.6988,  -0.3122, -12.9833]], grad_fn=<AddmmBackward>), tensor([[ 35.2849,  53.6081, -18.9095,  -2.3294,  -0.9803, -35.6239, -12.1582,\n",
      "          -3.4980,  -1.1974, -10.6114]], grad_fn=<AddmmBackward>), tensor([[ 32.0349,  52.9999, -18.0373,  -2.5704,  -1.0712, -34.0098, -11.4639,\n",
      "          -3.5776,  -1.2896, -10.5296]], grad_fn=<AddmmBackward>), tensor([[ 32.0103,  55.5686, -18.5890,  -3.4571,  -0.7456, -35.1201, -12.6385,\n",
      "          -3.7222,  -0.8536, -12.0433]], grad_fn=<AddmmBackward>), tensor([[ 32.6782,  56.6748, -18.8753,  -2.7070,  -0.7808, -36.1220, -11.6204,\n",
      "          -2.9994,  -0.7398, -11.8633]], grad_fn=<AddmmBackward>), tensor([[ 37.1489,  68.4575, -21.4477,  -4.0975,  -0.1072, -42.1669, -14.8942,\n",
      "          -3.3204,  -1.5064, -14.5942]], grad_fn=<AddmmBackward>), tensor([[ 31.8988,  60.1686, -18.7524,  -2.6955,  -0.5528, -37.7400, -13.4878,\n",
      "          -4.2506,  -0.3583, -13.2366]], grad_fn=<AddmmBackward>), tensor([[ 33.1759,  61.2000, -19.5392,  -2.8187,  -0.7992, -38.4647, -12.3769,\n",
      "          -3.8143,  -0.0638, -12.3515]], grad_fn=<AddmmBackward>), tensor([[ 34.0583,  56.2611, -18.9020,  -2.9721,  -0.9262, -36.0246, -12.0968,\n",
      "          -3.5390,  -0.8482, -12.0202]], grad_fn=<AddmmBackward>), tensor([[ 33.8694,  70.7285, -21.3679,  -3.6825,   0.3608, -43.8024, -14.9784,\n",
      "          -4.2736,  -0.7629, -14.6442]], grad_fn=<AddmmBackward>), tensor([[ 32.9632,  57.5997, -18.9747,  -2.8707,  -1.2031, -37.0986, -12.5328,\n",
      "          -3.2734,  -0.4345, -11.7273]], grad_fn=<AddmmBackward>), tensor([[ 33.7739,  55.0667, -19.7882,  -2.1392,  -0.9209, -35.4083, -12.0455,\n",
      "          -3.5677,  -0.9828, -11.3039]], grad_fn=<AddmmBackward>), tensor([[ 34.1696,  61.8004, -19.3031,  -2.9176,  -0.5921, -39.5301, -12.5182,\n",
      "          -3.4874,  -1.7853, -13.0964]], grad_fn=<AddmmBackward>), tensor([[ 33.5774,  56.2215, -18.9859,  -2.3847,  -1.2354, -36.2394, -12.4102,\n",
      "          -3.4485,  -0.8423, -11.5868]], grad_fn=<AddmmBackward>), tensor([[ 36.3576,  63.8112, -21.2968,  -2.7252,   0.1354, -39.6662, -13.2380,\n",
      "          -4.2108,  -0.9208, -12.5035]], grad_fn=<AddmmBackward>), tensor([[ 32.3053,  64.2328, -20.1753,  -3.4251,   0.5391, -39.5917, -12.4293,\n",
      "          -4.4365,  -0.4894, -13.0055]], grad_fn=<AddmmBackward>), tensor([[ 34.0454,  56.9570, -18.7583,  -1.8371,  -0.2554, -37.3346, -11.9673,\n",
      "          -3.6907,  -1.1617, -12.0557]], grad_fn=<AddmmBackward>), tensor([[ 32.9016,  58.3537, -18.6226,  -3.2880,  -1.6844, -36.7368, -12.6189,\n",
      "          -4.4296,  -0.6826, -11.7418]], grad_fn=<AddmmBackward>), tensor([[ 3.2139e+01,  5.8329e+01, -1.9250e+01, -2.8738e+00, -7.1046e-01,\n",
      "         -3.6269e+01, -1.2068e+01, -3.0381e+00, -5.6857e-02, -1.2073e+01]],\n",
      "       grad_fn=<AddmmBackward>), tensor([[ 33.8898,  70.7116, -21.3588,  -3.6897,   0.3569, -43.8025, -14.9785,\n",
      "          -4.2842,  -0.7688, -14.6354]], grad_fn=<AddmmBackward>), tensor([[ 3.5393e+01,  5.8473e+01, -1.9369e+01, -2.2814e+00,  3.7855e-02,\n",
      "         -3.7947e+01, -1.2734e+01, -4.0118e+00, -7.8056e-01, -1.2158e+01]],\n",
      "       grad_fn=<AddmmBackward>), tensor([[ 35.2734,  61.4349, -20.8906,  -1.9927,  -0.2398, -40.0783, -12.4748,\n",
      "          -3.8002,  -0.5145, -13.2752]], grad_fn=<AddmmBackward>), tensor([[ 34.0454,  56.9570, -18.7583,  -1.8371,  -0.2554, -37.3346, -11.9673,\n",
      "          -3.6907,  -1.1617, -12.0557]], grad_fn=<AddmmBackward>), tensor([[ 31.5800,  55.6386, -18.2015,  -2.3609,  -0.6183, -34.7083, -11.9508,\n",
      "          -3.6733,  -0.8549, -11.6077]], grad_fn=<AddmmBackward>), tensor([[ 34.1495,  65.8531, -21.1526,  -3.0927,   0.5793, -41.5630, -13.3320,\n",
      "          -3.9584,  -0.2076, -13.1952]], grad_fn=<AddmmBackward>), tensor([[ 32.6874,  53.0717, -18.4330,  -1.7713,  -0.5801, -34.3550, -11.5064,\n",
      "          -2.8891,  -0.8849, -10.9083]], grad_fn=<AddmmBackward>), tensor([[ 33.4086,  58.8756, -18.9825,  -2.3826,  -0.9521, -36.5998, -12.0323,\n",
      "          -3.4235,  -1.3799, -11.2677]], grad_fn=<AddmmBackward>), tensor([[ 33.5838,  59.4275, -18.4121,  -3.2272,  -1.7641, -37.7747, -12.0439,\n",
      "          -3.5645,  -1.5252, -11.3023]], grad_fn=<AddmmBackward>), tensor([[ 33.3039,  56.3916, -18.8001,  -1.8975,  -0.3455, -36.5467, -11.4301,\n",
      "          -3.3821,  -0.7659, -12.1615]], grad_fn=<AddmmBackward>), tensor([[ 31.1806,  67.1662, -20.7101,  -3.7278,   0.1416, -40.2287, -13.0006,\n",
      "          -4.6132,  -0.2451, -14.1964]], grad_fn=<AddmmBackward>), tensor([[ 32.2621,  56.7479, -18.9217,  -2.5931,  -0.3858, -35.6686, -11.8038,\n",
      "          -3.6204,  -0.6482, -11.6654]], grad_fn=<AddmmBackward>), tensor([[ 30.8663,  59.1567, -19.2380,  -3.2244,  -0.5993, -35.8253, -11.9880,\n",
      "          -3.4344,  -0.4172, -12.6879]], grad_fn=<AddmmBackward>), tensor([[ 34.8264,  62.9786, -20.5538,  -3.3103,  -0.5426, -39.8504, -14.0010,\n",
      "          -4.5865,  -0.4194, -13.8045]], grad_fn=<AddmmBackward>), tensor([[ 31.3812,  51.0267, -17.5461,  -1.8173,   0.0635, -33.4674, -10.9739,\n",
      "          -3.9204,  -1.0358, -10.3454]], grad_fn=<AddmmBackward>), tensor([[ 34.2711,  72.9471, -22.0557,  -3.8354,  -0.0802, -44.1603, -14.8026,\n",
      "          -5.1455,   0.5522, -15.0972]], grad_fn=<AddmmBackward>), tensor([[ 3.8368e+01,  7.4985e+01, -2.3518e+01, -3.8942e+00,  1.6380e-01,\n",
      "         -4.6796e+01, -1.5609e+01, -4.7922e+00, -2.9255e-02, -1.5028e+01]],\n",
      "       grad_fn=<AddmmBackward>), tensor([[ 35.7034,  57.0319, -20.2119,  -3.3681,  -1.3842, -36.7504, -11.9200,\n",
      "          -3.1620,  -2.0470, -12.1750]], grad_fn=<AddmmBackward>), tensor([[ 35.6693,  61.4919, -19.4134,  -3.1148,  -0.9679, -40.4332, -12.4635,\n",
      "          -3.7491,  -1.3876, -12.3021]], grad_fn=<AddmmBackward>), tensor([[ 36.1851,  70.4301, -21.9919,  -2.9839,   0.3869, -43.7151, -13.7235,\n",
      "          -4.6616,  -0.5202, -14.6109]], grad_fn=<AddmmBackward>), tensor([[ 33.3039,  56.3916, -18.8001,  -1.8975,  -0.3455, -36.5467, -11.4301,\n",
      "          -3.3821,  -0.7659, -12.1615]], grad_fn=<AddmmBackward>), tensor([[ 31.2172,  61.4560, -19.2113,  -3.5129,  -0.3665, -37.2700, -12.4127,\n",
      "          -3.6100,  -0.4670, -13.2388]], grad_fn=<AddmmBackward>), tensor([[ 34.3358,  57.9367, -18.6040,  -2.7028,  -1.6620, -37.0336, -11.9965,\n",
      "          -4.4017,  -1.8066, -11.1157]], grad_fn=<AddmmBackward>), tensor([[ 31.1806,  67.1662, -20.7101,  -3.7278,   0.1416, -40.2287, -13.0006,\n",
      "          -4.6132,  -0.2451, -14.1964]], grad_fn=<AddmmBackward>), tensor([[ 32.9980,  55.8162, -19.0467,  -2.7526,  -0.3796, -35.2572, -11.9355,\n",
      "          -3.6294,  -1.3313, -11.8465]], grad_fn=<AddmmBackward>), tensor([[ 34.6119,  57.4087, -19.0388,  -2.0254,  -0.5663, -36.8330, -12.9197,\n",
      "          -3.7761,  -1.4868, -11.4419]], grad_fn=<AddmmBackward>), tensor([[ 31.7962,  61.9470, -19.4636,  -2.7953,  -0.3513, -37.9809, -12.2004,\n",
      "          -4.2720,  -0.5149, -12.9035]], grad_fn=<AddmmBackward>), tensor([[ 32.4725,  64.8637, -20.0909,  -3.1063,  -2.1182, -39.4482, -12.5672,\n",
      "          -4.3635,  -0.3097, -13.2133]], grad_fn=<AddmmBackward>), tensor([[ 34.2711,  72.9471, -22.0557,  -3.8354,  -0.0802, -44.1603, -14.8026,\n",
      "          -5.1455,   0.5522, -15.0972]], grad_fn=<AddmmBackward>), tensor([[ 35.5391,  61.2029, -20.6203,  -2.1495,  -0.2177, -38.8788, -12.1976,\n",
      "          -2.9995,  -0.9359, -12.7883]], grad_fn=<AddmmBackward>), tensor([[ 35.5972,  61.2328, -20.6390,  -2.1428,  -0.2039, -38.9197, -12.2016,\n",
      "          -3.0099,  -0.9369, -12.8070]], grad_fn=<AddmmBackward>), tensor([[ 34.8008,  64.7152, -20.7551,  -3.3619,   0.3757, -41.7781, -14.5932,\n",
      "          -3.3628,   0.0658, -13.4908]], grad_fn=<AddmmBackward>), tensor([[ 32.2637,  57.4749, -18.7106,  -2.8244,  -0.2554, -35.6762, -12.3447,\n",
      "          -3.4945,  -0.8168, -11.6972]], grad_fn=<AddmmBackward>), tensor([[ 32.6159,  59.3186, -18.9096,  -3.8202,  -0.3336, -37.6824, -13.0200,\n",
      "          -4.5512,  -1.4894, -10.9460]], grad_fn=<AddmmBackward>), tensor([[ 35.5972,  61.2328, -20.6390,  -2.1428,  -0.2039, -38.9197, -12.2016,\n",
      "          -3.0099,  -0.9369, -12.8070]], grad_fn=<AddmmBackward>), tensor([[ 37.1488,  70.7171, -22.6462,  -3.2963,   0.7029, -44.0463, -15.0046,\n",
      "          -3.4770,   1.1425, -15.4474]], grad_fn=<AddmmBackward>), tensor([[ 32.6761,  56.2664, -18.5526,  -1.7170,  -0.1724, -36.1640, -11.3302,\n",
      "          -3.2680,  -1.4244, -11.3914]], grad_fn=<AddmmBackward>), tensor([[ 34.1696,  61.8004, -19.3031,  -2.9176,  -0.5921, -39.5301, -12.5182,\n",
      "          -3.4874,  -1.7853, -13.0964]], grad_fn=<AddmmBackward>), tensor([[ 29.8230,  57.2627, -18.4537,  -3.2218,  -0.4400, -35.1928, -11.9746,\n",
      "          -3.3596,  -0.3443, -12.1995]], grad_fn=<AddmmBackward>), tensor([[ 34.6263,  65.1606, -21.1368,  -3.0452,  -0.2405, -40.7535, -13.1536,\n",
      "          -3.3656,  -0.9890, -13.6267]], grad_fn=<AddmmBackward>), tensor([[ 39.0200,  80.2394, -25.5525,  -3.3179,   1.6969, -49.1581, -16.2918,\n",
      "          -3.7218,   0.4413, -16.3512]], grad_fn=<AddmmBackward>), tensor([[ 30.4306,  65.9348, -19.5729,  -4.3247,  -0.1432, -39.1481, -13.5498,\n",
      "          -3.9994,  -0.2570, -14.3142]], grad_fn=<AddmmBackward>), tensor([[ 34.6197,  63.7312, -20.3613,  -3.7015,  -1.1283, -40.4517, -13.9268,\n",
      "          -3.3204,  -0.9884, -13.0426]], grad_fn=<AddmmBackward>), tensor([[ 36.8056,  64.5281, -20.6636,  -2.8777,   0.6511, -40.1590, -12.3685,\n",
      "          -4.4330,  -0.7282, -12.8557]], grad_fn=<AddmmBackward>), tensor([[ 29.1186,  55.4630, -17.7102,  -2.5673,   0.4648, -34.3846, -12.2828,\n",
      "          -3.7570,   0.3465, -12.2247]], grad_fn=<AddmmBackward>)]\n"
     ]
    },
    {
     "ename": "ValueError",
     "evalue": "Classification metrics can't handle a mix of binary and unknown targets",
     "output_type": "error",
     "traceback": [
      "\u001b[0;31m---------------------------------------------------------------------------\u001b[0m",
      "\u001b[0;31mValueError\u001b[0m                                Traceback (most recent call last)",
      "\u001b[0;32m<ipython-input-96-f7bb55560180>\u001b[0m in \u001b[0;36m<module>\u001b[0;34m\u001b[0m\n\u001b[1;32m      2\u001b[0m \u001b[0mprint\u001b[0m\u001b[0;34m(\u001b[0m\u001b[0my_predicted\u001b[0m\u001b[0;34m)\u001b[0m\u001b[0;34m\u001b[0m\u001b[0;34m\u001b[0m\u001b[0m\n\u001b[1;32m      3\u001b[0m \u001b[0;34m\u001b[0m\u001b[0m\n\u001b[0;32m----> 4\u001b[0;31m \u001b[0mcm\u001b[0m \u001b[0;34m=\u001b[0m \u001b[0mcreate_confusion_matrix\u001b[0m\u001b[0;34m(\u001b[0m\u001b[0my_true\u001b[0m\u001b[0;34m,\u001b[0m \u001b[0my_predicted\u001b[0m\u001b[0;34m)\u001b[0m\u001b[0;34m\u001b[0m\u001b[0;34m\u001b[0m\u001b[0m\n\u001b[0m\u001b[1;32m      5\u001b[0m \u001b[0mplot_confusion_matrix\u001b[0m\u001b[0;34m(\u001b[0m\u001b[0mcm\u001b[0m\u001b[0;34m,\u001b[0m \u001b[0;34m'Confusion matrix without normalisation'\u001b[0m\u001b[0;34m)\u001b[0m\u001b[0;34m\u001b[0m\u001b[0;34m\u001b[0m\u001b[0m\n",
      "\u001b[0;32m<ipython-input-32-13a78c559d4a>\u001b[0m in \u001b[0;36mcreate_confusion_matrix\u001b[0;34m(y_true, y_predicted)\u001b[0m\n\u001b[1;32m      1\u001b[0m \u001b[0;32mdef\u001b[0m \u001b[0mcreate_confusion_matrix\u001b[0m\u001b[0;34m(\u001b[0m\u001b[0my_true\u001b[0m\u001b[0;34m,\u001b[0m \u001b[0my_predicted\u001b[0m\u001b[0;34m)\u001b[0m\u001b[0;34m:\u001b[0m\u001b[0;34m\u001b[0m\u001b[0;34m\u001b[0m\u001b[0m\n\u001b[0;32m----> 2\u001b[0;31m     \u001b[0;32mreturn\u001b[0m \u001b[0mconfusion_matrix\u001b[0m\u001b[0;34m(\u001b[0m\u001b[0my_true\u001b[0m\u001b[0;34m,\u001b[0m \u001b[0my_predicted\u001b[0m\u001b[0;34m)\u001b[0m\u001b[0;34m\u001b[0m\u001b[0;34m\u001b[0m\u001b[0m\n\u001b[0m",
      "\u001b[0;32m/usr/local/lib/python3.8/site-packages/sklearn/utils/validation.py\u001b[0m in \u001b[0;36minner_f\u001b[0;34m(*args, **kwargs)\u001b[0m\n\u001b[1;32m     70\u001b[0m                           FutureWarning)\n\u001b[1;32m     71\u001b[0m         \u001b[0mkwargs\u001b[0m\u001b[0;34m.\u001b[0m\u001b[0mupdate\u001b[0m\u001b[0;34m(\u001b[0m\u001b[0;34m{\u001b[0m\u001b[0mk\u001b[0m\u001b[0;34m:\u001b[0m \u001b[0marg\u001b[0m \u001b[0;32mfor\u001b[0m \u001b[0mk\u001b[0m\u001b[0;34m,\u001b[0m \u001b[0marg\u001b[0m \u001b[0;32min\u001b[0m \u001b[0mzip\u001b[0m\u001b[0;34m(\u001b[0m\u001b[0msig\u001b[0m\u001b[0;34m.\u001b[0m\u001b[0mparameters\u001b[0m\u001b[0;34m,\u001b[0m \u001b[0margs\u001b[0m\u001b[0;34m)\u001b[0m\u001b[0;34m}\u001b[0m\u001b[0;34m)\u001b[0m\u001b[0;34m\u001b[0m\u001b[0;34m\u001b[0m\u001b[0m\n\u001b[0;32m---> 72\u001b[0;31m         \u001b[0;32mreturn\u001b[0m \u001b[0mf\u001b[0m\u001b[0;34m(\u001b[0m\u001b[0;34m**\u001b[0m\u001b[0mkwargs\u001b[0m\u001b[0;34m)\u001b[0m\u001b[0;34m\u001b[0m\u001b[0;34m\u001b[0m\u001b[0m\n\u001b[0m\u001b[1;32m     73\u001b[0m     \u001b[0;32mreturn\u001b[0m \u001b[0minner_f\u001b[0m\u001b[0;34m\u001b[0m\u001b[0;34m\u001b[0m\u001b[0m\n\u001b[1;32m     74\u001b[0m \u001b[0;34m\u001b[0m\u001b[0m\n",
      "\u001b[0;32m/usr/local/lib/python3.8/site-packages/sklearn/metrics/_classification.py\u001b[0m in \u001b[0;36mconfusion_matrix\u001b[0;34m(y_true, y_pred, labels, sample_weight, normalize)\u001b[0m\n\u001b[1;32m    274\u001b[0m \u001b[0;34m\u001b[0m\u001b[0m\n\u001b[1;32m    275\u001b[0m     \"\"\"\n\u001b[0;32m--> 276\u001b[0;31m     \u001b[0my_type\u001b[0m\u001b[0;34m,\u001b[0m \u001b[0my_true\u001b[0m\u001b[0;34m,\u001b[0m \u001b[0my_pred\u001b[0m \u001b[0;34m=\u001b[0m \u001b[0m_check_targets\u001b[0m\u001b[0;34m(\u001b[0m\u001b[0my_true\u001b[0m\u001b[0;34m,\u001b[0m \u001b[0my_pred\u001b[0m\u001b[0;34m)\u001b[0m\u001b[0;34m\u001b[0m\u001b[0;34m\u001b[0m\u001b[0m\n\u001b[0m\u001b[1;32m    277\u001b[0m     \u001b[0;32mif\u001b[0m \u001b[0my_type\u001b[0m \u001b[0;32mnot\u001b[0m \u001b[0;32min\u001b[0m \u001b[0;34m(\u001b[0m\u001b[0;34m\"binary\"\u001b[0m\u001b[0;34m,\u001b[0m \u001b[0;34m\"multiclass\"\u001b[0m\u001b[0;34m)\u001b[0m\u001b[0;34m:\u001b[0m\u001b[0;34m\u001b[0m\u001b[0;34m\u001b[0m\u001b[0m\n\u001b[1;32m    278\u001b[0m         \u001b[0;32mraise\u001b[0m \u001b[0mValueError\u001b[0m\u001b[0;34m(\u001b[0m\u001b[0;34m\"%s is not supported\"\u001b[0m \u001b[0;34m%\u001b[0m \u001b[0my_type\u001b[0m\u001b[0;34m)\u001b[0m\u001b[0;34m\u001b[0m\u001b[0;34m\u001b[0m\u001b[0m\n",
      "\u001b[0;32m/usr/local/lib/python3.8/site-packages/sklearn/metrics/_classification.py\u001b[0m in \u001b[0;36m_check_targets\u001b[0;34m(y_true, y_pred)\u001b[0m\n\u001b[1;32m     88\u001b[0m \u001b[0;34m\u001b[0m\u001b[0m\n\u001b[1;32m     89\u001b[0m     \u001b[0;32mif\u001b[0m \u001b[0mlen\u001b[0m\u001b[0;34m(\u001b[0m\u001b[0my_type\u001b[0m\u001b[0;34m)\u001b[0m \u001b[0;34m>\u001b[0m \u001b[0;36m1\u001b[0m\u001b[0;34m:\u001b[0m\u001b[0;34m\u001b[0m\u001b[0;34m\u001b[0m\u001b[0m\n\u001b[0;32m---> 90\u001b[0;31m         raise ValueError(\"Classification metrics can't handle a mix of {0} \"\n\u001b[0m\u001b[1;32m     91\u001b[0m                          \"and {1} targets\".format(type_true, type_pred))\n\u001b[1;32m     92\u001b[0m \u001b[0;34m\u001b[0m\u001b[0m\n",
      "\u001b[0;31mValueError\u001b[0m: Classification metrics can't handle a mix of binary and unknown targets"
     ]
    }
   ],
   "source": [
    "print(y_true)\n",
    "print(y_predicted)\n",
    "\n",
    "cm = create_confusion_matrix(y_true, y_predicted)\n",
    "plot_confusion_matrix(cm, 'Confusion matrix without normalisation')"
   ]
  },
  {
   "cell_type": "code",
   "execution_count": null,
   "metadata": {},
   "outputs": [],
   "source": []
  }
 ],
 "metadata": {
  "kernelspec": {
   "display_name": "Python 3",
   "language": "python",
   "name": "python3"
  },
  "language_info": {
   "codemirror_mode": {
    "name": "ipython",
    "version": 3
   },
   "file_extension": ".py",
   "mimetype": "text/x-python",
   "name": "python",
   "nbconvert_exporter": "python",
   "pygments_lexer": "ipython3",
   "version": "3.8.6"
  }
 },
 "nbformat": 4,
 "nbformat_minor": 4
}
